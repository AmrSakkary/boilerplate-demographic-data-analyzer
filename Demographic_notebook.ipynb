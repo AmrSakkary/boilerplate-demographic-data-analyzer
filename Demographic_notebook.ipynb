{
 "cells": [
  {
   "cell_type": "code",
   "execution_count": 1,
   "id": "e8906cbb-001f-42c3-a130-f0653a98389a",
   "metadata": {},
   "outputs": [],
   "source": [
    "import pandas as pd\n",
    "import numpy as np\n",
    "import seaborn as sns\n",
    "import matplotlib.pyplot as plt\n",
    "%matplotlib inline\n",
    "sns.set_style('darkgrid')"
   ]
  },
  {
   "cell_type": "code",
   "execution_count": 2,
   "id": "cd18f1ff-dbc8-4cc2-a955-bb7da3362dd1",
   "metadata": {},
   "outputs": [
    {
     "data": {
      "text/html": [
       "<div>\n",
       "<style scoped>\n",
       "    .dataframe tbody tr th:only-of-type {\n",
       "        vertical-align: middle;\n",
       "    }\n",
       "\n",
       "    .dataframe tbody tr th {\n",
       "        vertical-align: top;\n",
       "    }\n",
       "\n",
       "    .dataframe thead th {\n",
       "        text-align: right;\n",
       "    }\n",
       "</style>\n",
       "<table border=\"1\" class=\"dataframe\">\n",
       "  <thead>\n",
       "    <tr style=\"text-align: right;\">\n",
       "      <th></th>\n",
       "      <th>age</th>\n",
       "      <th>workclass</th>\n",
       "      <th>fnlwgt</th>\n",
       "      <th>education</th>\n",
       "      <th>education-num</th>\n",
       "      <th>marital-status</th>\n",
       "      <th>occupation</th>\n",
       "      <th>relationship</th>\n",
       "      <th>race</th>\n",
       "      <th>sex</th>\n",
       "      <th>capital-gain</th>\n",
       "      <th>capital-loss</th>\n",
       "      <th>hours-per-week</th>\n",
       "      <th>native-country</th>\n",
       "      <th>salary</th>\n",
       "    </tr>\n",
       "  </thead>\n",
       "  <tbody>\n",
       "    <tr>\n",
       "      <th>0</th>\n",
       "      <td>39</td>\n",
       "      <td>State-gov</td>\n",
       "      <td>77516</td>\n",
       "      <td>Bachelors</td>\n",
       "      <td>13</td>\n",
       "      <td>Never-married</td>\n",
       "      <td>Adm-clerical</td>\n",
       "      <td>Not-in-family</td>\n",
       "      <td>White</td>\n",
       "      <td>Male</td>\n",
       "      <td>2174</td>\n",
       "      <td>0</td>\n",
       "      <td>40</td>\n",
       "      <td>United-States</td>\n",
       "      <td>&lt;=50K</td>\n",
       "    </tr>\n",
       "    <tr>\n",
       "      <th>1</th>\n",
       "      <td>50</td>\n",
       "      <td>Self-emp-not-inc</td>\n",
       "      <td>83311</td>\n",
       "      <td>Bachelors</td>\n",
       "      <td>13</td>\n",
       "      <td>Married-civ-spouse</td>\n",
       "      <td>Exec-managerial</td>\n",
       "      <td>Husband</td>\n",
       "      <td>White</td>\n",
       "      <td>Male</td>\n",
       "      <td>0</td>\n",
       "      <td>0</td>\n",
       "      <td>13</td>\n",
       "      <td>United-States</td>\n",
       "      <td>&lt;=50K</td>\n",
       "    </tr>\n",
       "  </tbody>\n",
       "</table>\n",
       "</div>"
      ],
      "text/plain": [
       "   age         workclass  fnlwgt  education  education-num  \\\n",
       "0   39         State-gov   77516  Bachelors             13   \n",
       "1   50  Self-emp-not-inc   83311  Bachelors             13   \n",
       "\n",
       "       marital-status       occupation   relationship   race   sex  \\\n",
       "0       Never-married     Adm-clerical  Not-in-family  White  Male   \n",
       "1  Married-civ-spouse  Exec-managerial        Husband  White  Male   \n",
       "\n",
       "   capital-gain  capital-loss  hours-per-week native-country salary  \n",
       "0          2174             0              40  United-States  <=50K  \n",
       "1             0             0              13  United-States  <=50K  "
      ]
     },
     "execution_count": 2,
     "metadata": {},
     "output_type": "execute_result"
    }
   ],
   "source": [
    "df = pd.read_csv('adult.data.csv')\n",
    "df.head(2)"
   ]
  },
  {
   "cell_type": "code",
   "execution_count": 3,
   "id": "d33f9155-f99b-40a4-985d-de8fe019f92c",
   "metadata": {},
   "outputs": [
    {
     "data": {
      "text/plain": [
       "(32561, 15)"
      ]
     },
     "execution_count": 3,
     "metadata": {},
     "output_type": "execute_result"
    }
   ],
   "source": [
    "# checking the data rows and columns number\n",
    "df.shape"
   ]
  },
  {
   "cell_type": "code",
   "execution_count": 4,
   "id": "262fdce4-fbb8-4cf9-a118-a04c82e17d5c",
   "metadata": {},
   "outputs": [
    {
     "name": "stdout",
     "output_type": "stream",
     "text": [
      "<class 'pandas.core.frame.DataFrame'>\n",
      "RangeIndex: 32561 entries, 0 to 32560\n",
      "Data columns (total 15 columns):\n",
      " #   Column          Non-Null Count  Dtype \n",
      "---  ------          --------------  ----- \n",
      " 0   age             32561 non-null  int64 \n",
      " 1   workclass       32561 non-null  object\n",
      " 2   fnlwgt          32561 non-null  int64 \n",
      " 3   education       32561 non-null  object\n",
      " 4   education-num   32561 non-null  int64 \n",
      " 5   marital-status  32561 non-null  object\n",
      " 6   occupation      32561 non-null  object\n",
      " 7   relationship    32561 non-null  object\n",
      " 8   race            32561 non-null  object\n",
      " 9   sex             32561 non-null  object\n",
      " 10  capital-gain    32561 non-null  int64 \n",
      " 11  capital-loss    32561 non-null  int64 \n",
      " 12  hours-per-week  32561 non-null  int64 \n",
      " 13  native-country  32561 non-null  object\n",
      " 14  salary          32561 non-null  object\n",
      "dtypes: int64(6), object(9)\n",
      "memory usage: 3.7+ MB\n"
     ]
    }
   ],
   "source": [
    "# checking the data info\n",
    "df.info()"
   ]
  },
  {
   "cell_type": "markdown",
   "id": "4101edc1-9984-4565-9f9a-6391e8c18ab3",
   "metadata": {},
   "source": [
    "> data types are fine"
   ]
  },
  {
   "cell_type": "code",
   "execution_count": 10,
   "id": "02098f14-12c8-4f8e-8858-b7d284e11f97",
   "metadata": {},
   "outputs": [
    {
     "name": "stdout",
     "output_type": "stream",
     "text": [
      "Number of duplicated values is:  24\n"
     ]
    }
   ],
   "source": [
    "# checking duplicated values\n",
    "print(\"Number of duplicated values is: \",df.duplicated().sum())"
   ]
  },
  {
   "cell_type": "code",
   "execution_count": 9,
   "id": "0a7fc4ed-bbfb-4dfc-8763-e2137a3cdb8c",
   "metadata": {},
   "outputs": [
    {
     "data": {
      "text/plain": [
       "age               0\n",
       "workclass         0\n",
       "fnlwgt            0\n",
       "education         0\n",
       "education-num     0\n",
       "marital-status    0\n",
       "occupation        0\n",
       "relationship      0\n",
       "race              0\n",
       "sex               0\n",
       "capital-gain      0\n",
       "capital-loss      0\n",
       "hours-per-week    0\n",
       "native-country    0\n",
       "salary            0\n",
       "dtype: int64"
      ]
     },
     "execution_count": 9,
     "metadata": {},
     "output_type": "execute_result"
    }
   ],
   "source": [
    "# checking null values\n",
    "df.isna().sum()"
   ]
  },
  {
   "cell_type": "markdown",
   "id": "260afed4-ce2a-4920-ac10-1afb30095a32",
   "metadata": {},
   "source": [
    "> there is no null data in this dataset"
   ]
  },
  {
   "cell_type": "code",
   "execution_count": 16,
   "id": "5c978ec7-4fee-4b19-ac14-c8eea505f443",
   "metadata": {},
   "outputs": [],
   "source": [
    "def data_preprocessing(data):\n",
    "    # removing the duplicated values \n",
    "    new_df = data[data.duplicated() != True]\n",
    "    \n",
    "    # fixing columns name ( replace '-' with '_')\n",
    "    new_df.columns = [column.replace('-', '_') for column in new_df.columns]\n",
    "    \n",
    "    # returning the new data_frame\n",
    "    return new_df\n",
    "demographic = data_preprocessing(df)"
   ]
  },
  {
   "cell_type": "markdown",
   "id": "ce2e9d34-c62b-4665-a483-2064f40242de",
   "metadata": {},
   "source": []
  },
  {
   "cell_type": "markdown",
   "id": "5c3c721f-a7e8-4bc2-bab7-74dd67131bd5",
   "metadata": {},
   "source": [
    "## Answering some data questions "
   ]
  },
  {
   "cell_type": "code",
   "execution_count": 51,
   "id": "1202cfd0-bb88-46c8-b5ed-f7abffe6ec41",
   "metadata": {},
   "outputs": [
    {
     "data": {
      "text/plain": [
       "Index(['age', 'workclass', 'fnlwgt', 'education', 'education_num',\n",
       "       'marital_status', 'occupation', 'relationship', 'race', 'sex',\n",
       "       'capital_gain', 'capital_loss', 'hours_per_week', 'native_country',\n",
       "       'salary'],\n",
       "      dtype='object')"
      ]
     },
     "execution_count": 51,
     "metadata": {},
     "output_type": "execute_result"
    }
   ],
   "source": [
    "demographic.columns"
   ]
  },
  {
   "cell_type": "code",
   "execution_count": 100,
   "id": "4eba9e58-9f10-4d21-806d-630aa3bfabd4",
   "metadata": {},
   "outputs": [
    {
     "name": "stdout",
     "output_type": "stream",
     "text": [
      "Percentage with higher education that earn >50K: 47.0%\n",
      "Percentage without higher education that earn >50K: 24.0%\n"
     ]
    }
   ],
   "source": [
    "def calculate_demographic_data(print_data=True, data= None):\n",
    "    # Read data from file\n",
    "    df = data\n",
    "    \n",
    "    # How many of each race are represented in this dataset? This should be a Pandas series with race names as the index labels.\n",
    "    race_count = df.race.value_counts()\n",
    "\n",
    "    # What is the average age of men?\n",
    "    average_age_men = round(demographic[demographic.sex == 'Male'].age.mean(), 0)\n",
    "\n",
    "    # What is the percentage of people who have a Bachelor's degree?\n",
    "    num_ppl_w_ba = demographic.query('education == \"Bachelors\"').shape[0]\n",
    "    percentage_bachelors = round(num_ppl_w_ba/demographic.shape[0] *100 , 0)\n",
    "\n",
    "    # What percentage of people with advanced education (`Bachelors`, `Masters`, or `Doctorate`) make more than 50K?\n",
    "    # What percentage of people without advanced education make more than 50K?\n",
    "\n",
    "    # with and without `Bachelors`, `Masters`, or `Doctorate`\n",
    "    # with adv edu\n",
    "    higher_education = demographic.query('education == \"Bachelors\" or education == \"Masters\" or education == \"Doctorate\"')\n",
    "    num_adv_eppl_make_over_50k = higher_education.query('salary == \">50K\"').shape[0]\n",
    "    \n",
    "    # without adv edu\n",
    "    lower_education = demographic.query('education != \"Bachelors\" or education != \"Masters\" or education != \"Doctorate\"')\n",
    "    num_none_adv_eppl_make_over_50k = lower_education.query('salary == \">50K\"').shape[0]\n",
    "    \n",
    "    # percentage with salary >50K\n",
    "    higher_education_rich = round((num_adv_eppl_make_over_50k / higher_education.shape[0]) *100, 0)\n",
    "    lower_education_rich = round((num_none_adv_eppl_make_over_50k / lower_education.shape[0]) *100, 0)\n",
    "\n",
    "    # What is the minimum number of hours a person works per week (hours-per-week feature)?\n",
    "    min_work_hours = None\n",
    "\n",
    "    # What percentage of the people who work the minimum number of hours per week have a salary of >50K?\n",
    "    num_min_workers = None\n",
    "\n",
    "    rich_percentage = None\n",
    "\n",
    "    # What country has the highest percentage of people that earn >50K?\n",
    "    highest_earning_country = None\n",
    "    highest_earning_country_percentage = None\n",
    "\n",
    "    # Identify the most popular occupation for those who earn >50K in India.\n",
    "    top_IN_occupation = None\n",
    "\n",
    "    # DO NOT MODIFY BELOW THIS LINE\n",
    "\n",
    "    if print_data:\n",
    "        # print(\"Number of each race: \\n\", race_count, sep=\"\") \n",
    "        # print(\"Average age of men:\", average_age_men)\n",
    "        # print(f\"Percentage with Bachelors degrees: {percentage_bachelors}%\")\n",
    "        print(f\"Percentage with higher education that earn >50K: {higher_education_rich}%\")\n",
    "        print(f\"Percentage without higher education that earn >50K: {lower_education_rich}%\")\n",
    "        # print(f\"Min work time: {min_work_hours} hours/week\")\n",
    "        # print(f\"Percentage of rich among those who work fewest hours: {rich_percentage}%\")\n",
    "        # print(\"Country with highest percentage of rich:\", highest_earning_country)\n",
    "        # print(f\"Highest percentage of rich people in country: {highest_earning_country_percentage}%\")\n",
    "        # print(\"Top occupations in India:\", top_IN_occupation)\n",
    "\n",
    "    # return {\n",
    "    #     'race_count': race_count,\n",
    "    #     'average_age_men': average_age_men,\n",
    "    #     'percentage_bachelors': percentage_bachelors,\n",
    "    #     'higher_education_rich': higher_education_rich,\n",
    "    #     'lower_education_rich': lower_education_rich,\n",
    "    #     'min_work_hours': min_work_hours,\n",
    "    #     'rich_percentage': rich_percentage,\n",
    "    #     'highest_earning_country': highest_earning_country,\n",
    "    #     'highest_earning_country_percentage':\n",
    "    #     highest_earning_country_percentage,\n",
    "    #     'top_IN_occupation': top_IN_occupation\n",
    "    # }\n",
    "\n",
    "calculate_demographic_data(data = demographic , print_data=True)"
   ]
  },
  {
   "cell_type": "markdown",
   "id": "438fa162-5c27-4a39-ab46-a208dbbb12dd",
   "metadata": {},
   "source": [
    "## Test cells"
   ]
  },
  {
   "cell_type": "code",
   "execution_count": 61,
   "id": "605e3cab-5eb4-44bc-9230-987734c801bf",
   "metadata": {},
   "outputs": [
    {
     "data": {
      "text/plain": [
       "Index(['age', 'workclass', 'fnlwgt', 'education', 'education_num',\n",
       "       'marital_status', 'occupation', 'relationship', 'race', 'sex',\n",
       "       'capital_gain', 'capital_loss', 'hours_per_week', 'native_country',\n",
       "       'salary'],\n",
       "      dtype='object')"
      ]
     },
     "execution_count": 61,
     "metadata": {},
     "output_type": "execute_result"
    }
   ],
   "source": [
    "demographic.columns"
   ]
  },
  {
   "cell_type": "code",
   "execution_count": null,
   "id": "7e8fcd83-d248-47e2-bc8d-593400b8c9f7",
   "metadata": {
    "tags": []
   },
   "outputs": [],
   "source": []
  },
  {
   "cell_type": "code",
   "execution_count": null,
   "id": "3a825859-8bf3-4db1-9841-7b83083bee85",
   "metadata": {},
   "outputs": [],
   "source": []
  },
  {
   "cell_type": "code",
   "execution_count": null,
   "id": "6770f56c-c3e4-4f1b-b529-2a4359c2f398",
   "metadata": {},
   "outputs": [],
   "source": []
  },
  {
   "cell_type": "code",
   "execution_count": null,
   "id": "b113d189-5fc3-4541-a0af-527ee49b203f",
   "metadata": {},
   "outputs": [],
   "source": []
  },
  {
   "cell_type": "code",
   "execution_count": null,
   "id": "2b1a90a2-4b31-465a-ae5b-4828cd64a4ae",
   "metadata": {
    "tags": []
   },
   "outputs": [],
   "source": []
  },
  {
   "cell_type": "code",
   "execution_count": null,
   "id": "51cff4ac-b638-448c-ba23-f8fbad28d334",
   "metadata": {},
   "outputs": [],
   "source": []
  },
  {
   "cell_type": "code",
   "execution_count": null,
   "id": "8cd115c8-9c0b-4866-8d5e-f105ff8d5aa3",
   "metadata": {},
   "outputs": [],
   "source": []
  }
 ],
 "metadata": {
  "kernelspec": {
   "display_name": "Python 3 (ipykernel)",
   "language": "python",
   "name": "python3"
  },
  "language_info": {
   "codemirror_mode": {
    "name": "ipython",
    "version": 3
   },
   "file_extension": ".py",
   "mimetype": "text/x-python",
   "name": "python",
   "nbconvert_exporter": "python",
   "pygments_lexer": "ipython3",
   "version": "3.7.11"
  }
 },
 "nbformat": 4,
 "nbformat_minor": 5
}
